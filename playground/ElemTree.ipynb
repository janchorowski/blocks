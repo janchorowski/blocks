{
 "metadata": {
  "name": "",
  "signature": "sha256:ce74f4b94640e505bb99fad02e7f2ae78d6ff08721d724d02fb0a30ac80f2ce8"
 },
 "nbformat": 3,
 "nbformat_minor": 0,
 "worksheets": [
  {
   "cells": [
    {
     "cell_type": "code",
     "collapsed": false,
     "input": [
      "import xml.etree.ElementTree as ET"
     ],
     "language": "python",
     "metadata": {},
     "outputs": [],
     "prompt_number": 1
    },
    {
     "cell_type": "code",
     "collapsed": false,
     "input": [
      "root = ET.Element('root')\n",
      "enc = ET.SubElement(root,'encoder')\n",
      "enc_w1 = ET.SubElement(enc, 'W1')\n",
      "dec = ET.SubElement(root,'decoder')\n"
     ],
     "language": "python",
     "metadata": {},
     "outputs": [],
     "prompt_number": 4
    },
    {
     "cell_type": "code",
     "collapsed": false,
     "input": [
      "root."
     ],
     "language": "python",
     "metadata": {},
     "outputs": [
      {
       "metadata": {},
       "output_type": "pyout",
       "prompt_number": 13,
       "text": [
        "[]"
       ]
      }
     ],
     "prompt_number": 13
    }
   ],
   "metadata": {}
  }
 ]
}