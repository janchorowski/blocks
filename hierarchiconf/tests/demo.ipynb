{
 "metadata": {
  "name": "",
  "signature": "sha256:fd213234065b949b27300c639ff85eadb0cdefee800c6f415b48f211afbf69fa"
 },
 "nbformat": 3,
 "nbformat_minor": 0,
 "worksheets": [
  {
   "cells": [
    {
     "cell_type": "markdown",
     "metadata": {},
     "source": [
      "# Motovation\n",
      "\n",
      "ML models often are hierarchical and require specification of both defaults and specific values for some parameters.\n",
      "\n",
      "For instance:"
     ]
    },
    {
     "cell_type": "code",
     "collapsed": false,
     "input": [
      "from hierarchiconf import Conf, AmbiguousSpecificity\n",
      "\n",
      "c = Conf({\n",
      "'//': Conf({ #defaults\n",
      "            'L2Pen' : 1e-4,\n",
      "            'W.*_init_method' : 'sparse_orthogonal',\n",
      "            }),\n",
      "'encoder//W.*_init_method' : 'randnormal', #encoder weights are initialized differently\n",
      "'decoder//L2Pen':1-3, #more weight decay in the decoder\n",
      "})"
     ],
     "language": "python",
     "metadata": {},
     "outputs": [],
     "prompt_number": 10
    },
    {
     "cell_type": "markdown",
     "metadata": {},
     "source": [
      "The proposed hierarchical `Conf` object allows easy querying of those values:"
     ]
    },
    {
     "cell_type": "code",
     "collapsed": false,
     "input": [
      "assert c['encoder/input_mlp/W0_init_method'] == 'randnormal'\n",
      "assert c['encoder/input_mlp/L2Pen'] == 1e-4\n",
      "\n",
      "#extract subconf for the encoder:\n",
      "enc_conf = c.subconf('encoder')\n",
      "assert enc_conf['input_mlp/W0_init_method'] == 'randnormal'\n",
      "assert enc_conf['input_mlp/L2Pen'] == 1e-4"
     ],
     "language": "python",
     "metadata": {},
     "outputs": [],
     "prompt_number": 11
    },
    {
     "cell_type": "markdown",
     "metadata": {},
     "source": [
      "# Terminology:\n",
      "1. `path` - a string of '/'-separated python identifiers\n",
      "2. `selector` - a '/'-separeted string of:\n",
      "    - python identifiers: matches exactly the same identifier\n",
      "    - regular expressions: matches any identifier matching the expression\n",
      "    - this level and below wildcard '//': matches the *shortest sequence* of zero or more '/'-separated identifiers such that the next selector element matches the next path element\n",
      "    \n",
      "# Examples: "
     ]
    },
    {
     "cell_type": "code",
     "collapsed": false,
     "input": [
      "from hierarchiconf import Conf, AmbiguousSpecificity\n",
      "\n",
      "#a simple match:\n",
      "c = Conf({'seed':10,\n",
      "          'mlp/seed':20})\n",
      "\n",
      "#this works\n",
      "assert c['seed']==10\n",
      "assert c['mlp/seed']==20\n",
      "\n",
      "try:\n",
      "    #but these will fail\n",
      "    c['foo/bar/baz/seed']==10\n",
      "    assert False\n",
      "except KeyError:\n",
      "    pass\n",
      "\n",
      "\n",
      "#wildcard match\n",
      "c = Conf({'//seed':10})\n",
      "\n",
      "#this works\n",
      "assert c['seed']==10\n",
      "assert c['mlp/seed']==10\n",
      "assert c['foo/bar/baz/seed']==10\n",
      "\n",
      "try:\n",
      "    #but these will fail because the // match is minimal\n",
      "    c['foo/seed/baz/seed']==10\n",
      "    assert False\n",
      "except KeyError:\n",
      "    pass"
     ],
     "language": "python",
     "metadata": {},
     "outputs": [],
     "prompt_number": 12
    },
    {
     "cell_type": "markdown",
     "metadata": {},
     "source": [
      "Each match has a specificity, which is a pair:\n",
      "  \n",
      "  specificity=(number of exact matches, number of regexp matches)\n",
      "  \n",
      "Matches are orderd lexicographically, the most specific match is selected. It is forbidden to have two matches with the same specificity. The wildcard // is the weakest match that does not contribute to specificitiy. \n",
      "\n",
      "This mechanism enables default values and overrides:"
     ]
    },
    {
     "cell_type": "code",
     "collapsed": false,
     "input": [
      "c = Conf({\n",
      "'//se.*':1,\n",
      "'//seed':10,\n",
      "'mlp//seed':20,\n",
      "'ambiguous':30,\n",
      "'//ambiguous':40,\n",
      "})\n",
      "\n",
      "assert c['sequence']==1\n",
      "assert c['foo/sequence']==1\n",
      "\n",
      "assert c['seed']==10\n",
      "assert c['foo/seed']==10\n",
      "\n",
      "assert c['mlp/seed']==20\n",
      "assert c['mlp/foo/seed']==20\n",
      "assert c['mlp/foo/sequence']==1\n",
      "\n",
      "#this will raise \n",
      "try:\n",
      "    c['ambiguous']\n",
      "    assert False\n",
      "except AmbiguousSpecificity:\n",
      "    pass\n"
     ],
     "language": "python",
     "metadata": {},
     "outputs": [],
     "prompt_number": 13
    },
    {
     "cell_type": "markdown",
     "metadata": {},
     "source": [
      "The Conf object can be created by nesting confs, but it is just a convenience - internally it is always flattened:"
     ]
    },
    {
     "cell_type": "code",
     "collapsed": false,
     "input": [
      "c = Conf({'//': Conf ({ #global defaults\n",
      "                    'seed':10,\n",
      "                    }),\n",
      "         'mlp': Conf({'seed':20})\n",
      "         })\n",
      "print c"
     ],
     "language": "python",
     "metadata": {},
     "outputs": [
      {
       "output_type": "stream",
       "stream": "stdout",
       "text": [
        "Conf({'mlp/seed': 20, '//seed': 10})\n"
       ]
      }
     ],
     "prompt_number": 14
    },
    {
     "cell_type": "markdown",
     "metadata": {},
     "source": [
      "The Conf object can be constrained to subkeys of a specific `location`:"
     ]
    },
    {
     "cell_type": "code",
     "collapsed": false,
     "input": [
      "mlp_conf = c.subconf('mlp')\n",
      "assert mlp_conf['seed']==20\n",
      "\n",
      "foo_conf = c.subconf('foo')\n",
      "assert foo_conf['seed']==10"
     ],
     "language": "python",
     "metadata": {},
     "outputs": [],
     "prompt_number": 15
    },
    {
     "cell_type": "markdown",
     "metadata": {},
     "source": [
      "The Configuration object is writeable, writes are visible in the root configuration object (to ease tracking of object configuration)"
     ]
    },
    {
     "cell_type": "code",
     "collapsed": false,
     "input": [
      "foo_conf['bar']='baz'\n",
      "print \"foo_conf:\", foo_conf\n",
      "print \"c:       \", c"
     ],
     "language": "python",
     "metadata": {},
     "outputs": [
      {
       "output_type": "stream",
       "stream": "stdout",
       "text": [
        "foo_conf: Conf({'//seed': 10, 'bar': 'baz'})\n",
        "c:        Conf({'foo/bar': 'baz', 'mlp/seed': 20, '//seed': 10})\n"
       ]
      }
     ],
     "prompt_number": 16
    },
    {
     "cell_type": "markdown",
     "metadata": {},
     "source": [
      "To ease navigation around the configuration tree, each Conf object has special keys (defined by a dict in the class Conf). By default, the key `name` returns the last element of a Conf's location (and raises for the top-level configuration), while the key location returns the full location:"
     ]
    },
    {
     "cell_type": "code",
     "collapsed": false,
     "input": [
      "print 'Special attrs: ', Conf._special_selectors.keys()\n",
      "\n",
      "assert foo_conf['name']=='foo'\n",
      "assert foo_conf['location']=='foo'\n",
      "\n",
      "assert c.subconf('a/deeply/nested/stuff')['name']=='stuff'\n",
      "assert c.subconf('a/deeply/nested/stuff')['location']=='a/deeply/nested/stuff'\n",
      "\n",
      "assert c['location']==''"
     ],
     "language": "python",
     "metadata": {},
     "outputs": [
      {
       "output_type": "stream",
       "stream": "stdout",
       "text": [
        "Special attrs:  ['name', 'location']\n"
       ]
      }
     ],
     "prompt_number": 17
    },
    {
     "cell_type": "markdown",
     "metadata": {},
     "source": [
      "All functions take lists of strings to be joined with '/' as well:"
     ]
    },
    {
     "cell_type": "code",
     "collapsed": false,
     "input": [
      "assert c.subconf('a', 'deeply/nested','stuff')['location']=='a/deeply/nested/stuff'\n",
      "c['one','block','//down']=1234\n",
      "assert c['one/block','one/more','down']==1234"
     ],
     "language": "python",
     "metadata": {},
     "outputs": [],
     "prompt_number": 18
    }
   ],
   "metadata": {}
  }
 ]
}